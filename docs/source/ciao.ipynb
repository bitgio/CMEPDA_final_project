{
 "cells": [
  {
   "cell_type": "markdown",
   "id": "141ed985",
   "metadata": {},
   "source": [
    "\n",
    "TITLE\n",
    "=====\n",
    "\n",
    "##### Autori: Giovanni Bitonti, Ana Pascual\n"
   ]
  },
  {
   "cell_type": "code",
   "execution_count": 1,
   "id": "360bd662",
   "metadata": {},
   "outputs": [],
   "source": [
    "import os\n",
    "import pandoc\n",
    "import numpy as np\n",
    "import threading as thr\n",
    "import matplotlib.pyplot as plt\n",
    "from keras.models import Sequential\n",
    "from keras.layers import Conv2D, BatchNormalization, MaxPool2D, Dense, Flatten, InputLayer, Activation, Dropout\n",
    "from sklearn.model_selection import train_test_split\n",
    "from sklearn.metrics import roc_curve, auc\n",
    "from keras.callbacks import ModelCheckpoint, ReduceLROnPlateau, EarlyStopping"
   ]
  },
  {
   "cell_type": "code",
   "execution_count": 2,
   "id": "13c9847a",
   "metadata": {},
   "outputs": [],
   "source": [
    "import matlab.engine\n",
    "eng = matlab.engine.start_matlab()"
   ]
  },
  {
   "cell_type": "code",
   "execution_count": 6,
   "id": "c4e6805d",
   "metadata": {},
   "outputs": [],
   "source": [
    "mammo_o = []\n",
    "mammo_f = []\n",
    "label = []\n",
    "project_folder = \"C:/Users/anapascual/exam_project/dataset/\"\n",
    "os.chdir(project_folder)\n",
    "l = os.listdir()"
   ]
  },
  {
   "cell_type": "code",
   "execution_count": 7,
   "id": "c20f6a14",
   "metadata": {},
   "outputs": [],
   "source": [
    "def create_dataset(ls, o_img, f_img, lbl):\n",
    "    \"\"\"Function calling the Matlab file in order to filter the images\n",
    "    \n",
    "    ARGUMENTS\n",
    "    ---------\n",
    "    ls : list\n",
    "         Chunk of files' directory.\n",
    "         \n",
    "    \n",
    "    Return:\n",
    "        Dataset with all images filtered.\n",
    "    \"\"\"\n",
    "    if \"_1_resized.pgm\" in l:\n",
    "        mo, mf = eng.dataset_filtered(eng.char(os.path.join(project_folder,l)), nargout = 2)\n",
    "        o_img.append(mo)\n",
    "        f_img.append(mf)\n",
    "        lbl.append(1)\n",
    "    elif \"_2_resized.pgm\" in l:\n",
    "        mo, mf = eng.dataset_filtered(eng.char(os.path.join(project_folder,l)), nargout = 2)\n",
    "        o_img.append(mo)\n",
    "        f_img.append(mf)\n",
    "        lbl.append(0)"
   ]
  },
  {
   "cell_type": "code",
   "execution_count": 8,
   "id": "bf4136c2",
   "metadata": {},
   "outputs": [
    {
     "name": "stdout",
     "output_type": "stream",
     "text": [
      "49\n"
     ]
    }
   ],
   "source": [
    "os.chdir(\"C:/Users/anapascual/exam_project/\")\n",
    "threads = []\n",
    "chunk = 49\n",
    "print(chunk)\n",
    "for i in range(6):\n",
    "    t = thr.Thread(target = create_dataset, args = (l[i*chunk : (i+1)*chunk], mammo_o, mammo_f, label))\n",
    "    threads.append(t)\n",
    "    t.start()\n",
    "\n",
    "for i in threads:\n",
    "    i.join()"
   ]
  },
  {
   "cell_type": "code",
   "execution_count": 9,
   "id": "336a18c2",
   "metadata": {},
   "outputs": [],
   "source": [
    "eng.quit()"
   ]
  },
  {
   "cell_type": "code",
   "execution_count": 10,
   "id": "8ac2c080",
   "metadata": {},
   "outputs": [],
   "source": [
    "mammo_o = np.asarray(mammo_o, dtype = 'float32')/255.\n",
    "mammo_f = np.asarray(mammo_f, dtype = 'float32')/255.\n",
    "label = np.asarray(label)"
   ]
  },
  {
   "cell_type": "code",
   "execution_count": 11,
   "id": "9e1b91b7",
   "metadata": {},
   "outputs": [
    {
     "ename": "ValueError",
     "evalue": "cannot reshape array of size 0 into shape (147,125,125,1)",
     "output_type": "error",
     "traceback": [
      "\u001b[1;31m---------------------------------------------------------------------------\u001b[0m",
      "\u001b[1;31mValueError\u001b[0m                                Traceback (most recent call last)",
      "Cell \u001b[1;32mIn[11], line 1\u001b[0m\n\u001b[1;32m----> 1\u001b[0m mammo_o_4d \u001b[38;5;241m=\u001b[39m \u001b[43mnp\u001b[49m\u001b[38;5;241;43m.\u001b[39;49m\u001b[43mreshape\u001b[49m\u001b[43m(\u001b[49m\u001b[43mmammo_o\u001b[49m\u001b[43m,\u001b[49m\u001b[43m \u001b[49m\u001b[43m(\u001b[49m\u001b[38;5;241;43m147\u001b[39;49m\u001b[43m,\u001b[49m\u001b[43m \u001b[49m\u001b[38;5;241;43m125\u001b[39;49m\u001b[43m,\u001b[49m\u001b[43m \u001b[49m\u001b[38;5;241;43m125\u001b[39;49m\u001b[43m,\u001b[49m\u001b[43m \u001b[49m\u001b[38;5;241;43m1\u001b[39;49m\u001b[43m)\u001b[49m\u001b[43m)\u001b[49m\n\u001b[0;32m      2\u001b[0m \u001b[38;5;28mprint\u001b[39m(mammo_o_4d\u001b[38;5;241m.\u001b[39mshape)\n\u001b[0;32m      3\u001b[0m mammo_f_4d \u001b[38;5;241m=\u001b[39m np\u001b[38;5;241m.\u001b[39mreshape(mammo_f, (\u001b[38;5;241m147\u001b[39m, \u001b[38;5;241m64\u001b[39m, \u001b[38;5;241m64\u001b[39m, \u001b[38;5;241m1\u001b[39m))\n",
      "File \u001b[1;32m<__array_function__ internals>:180\u001b[0m, in \u001b[0;36mreshape\u001b[1;34m(*args, **kwargs)\u001b[0m\n",
      "File \u001b[1;32m~\\anaconda3\\lib\\site-packages\\numpy\\core\\fromnumeric.py:298\u001b[0m, in \u001b[0;36mreshape\u001b[1;34m(a, newshape, order)\u001b[0m\n\u001b[0;32m    198\u001b[0m \u001b[38;5;129m@array_function_dispatch\u001b[39m(_reshape_dispatcher)\n\u001b[0;32m    199\u001b[0m \u001b[38;5;28;01mdef\u001b[39;00m \u001b[38;5;21mreshape\u001b[39m(a, newshape, order\u001b[38;5;241m=\u001b[39m\u001b[38;5;124m'\u001b[39m\u001b[38;5;124mC\u001b[39m\u001b[38;5;124m'\u001b[39m):\n\u001b[0;32m    200\u001b[0m     \u001b[38;5;124;03m\"\"\"\u001b[39;00m\n\u001b[0;32m    201\u001b[0m \u001b[38;5;124;03m    Gives a new shape to an array without changing its data.\u001b[39;00m\n\u001b[0;32m    202\u001b[0m \n\u001b[1;32m   (...)\u001b[0m\n\u001b[0;32m    296\u001b[0m \u001b[38;5;124;03m           [5, 6]])\u001b[39;00m\n\u001b[0;32m    297\u001b[0m \u001b[38;5;124;03m    \"\"\"\u001b[39;00m\n\u001b[1;32m--> 298\u001b[0m     \u001b[38;5;28;01mreturn\u001b[39;00m \u001b[43m_wrapfunc\u001b[49m\u001b[43m(\u001b[49m\u001b[43ma\u001b[49m\u001b[43m,\u001b[49m\u001b[43m \u001b[49m\u001b[38;5;124;43m'\u001b[39;49m\u001b[38;5;124;43mreshape\u001b[39;49m\u001b[38;5;124;43m'\u001b[39;49m\u001b[43m,\u001b[49m\u001b[43m \u001b[49m\u001b[43mnewshape\u001b[49m\u001b[43m,\u001b[49m\u001b[43m \u001b[49m\u001b[43morder\u001b[49m\u001b[38;5;241;43m=\u001b[39;49m\u001b[43morder\u001b[49m\u001b[43m)\u001b[49m\n",
      "File \u001b[1;32m~\\anaconda3\\lib\\site-packages\\numpy\\core\\fromnumeric.py:57\u001b[0m, in \u001b[0;36m_wrapfunc\u001b[1;34m(obj, method, *args, **kwds)\u001b[0m\n\u001b[0;32m     54\u001b[0m     \u001b[38;5;28;01mreturn\u001b[39;00m _wrapit(obj, method, \u001b[38;5;241m*\u001b[39margs, \u001b[38;5;241m*\u001b[39m\u001b[38;5;241m*\u001b[39mkwds)\n\u001b[0;32m     56\u001b[0m \u001b[38;5;28;01mtry\u001b[39;00m:\n\u001b[1;32m---> 57\u001b[0m     \u001b[38;5;28;01mreturn\u001b[39;00m bound(\u001b[38;5;241m*\u001b[39margs, \u001b[38;5;241m*\u001b[39m\u001b[38;5;241m*\u001b[39mkwds)\n\u001b[0;32m     58\u001b[0m \u001b[38;5;28;01mexcept\u001b[39;00m \u001b[38;5;167;01mTypeError\u001b[39;00m:\n\u001b[0;32m     59\u001b[0m     \u001b[38;5;66;03m# A TypeError occurs if the object does have such a method in its\u001b[39;00m\n\u001b[0;32m     60\u001b[0m     \u001b[38;5;66;03m# class, but its signature is not identical to that of NumPy's. This\u001b[39;00m\n\u001b[1;32m   (...)\u001b[0m\n\u001b[0;32m     64\u001b[0m     \u001b[38;5;66;03m# Call _wrapit from within the except clause to ensure a potential\u001b[39;00m\n\u001b[0;32m     65\u001b[0m     \u001b[38;5;66;03m# exception has a traceback chain.\u001b[39;00m\n\u001b[0;32m     66\u001b[0m     \u001b[38;5;28;01mreturn\u001b[39;00m _wrapit(obj, method, \u001b[38;5;241m*\u001b[39margs, \u001b[38;5;241m*\u001b[39m\u001b[38;5;241m*\u001b[39mkwds)\n",
      "\u001b[1;31mValueError\u001b[0m: cannot reshape array of size 0 into shape (147,125,125,1)"
     ]
    }
   ],
   "source": [
    "mammo_o_4d = np.reshape(mammo_o, (147, 125, 125, 1))\n",
    "print(mammo_o_4d.shape)\n",
    "mammo_f_4d = np.reshape(mammo_f, (147, 64, 64, 1))\n",
    "print(mammo_f_4d.shape)"
   ]
  },
  {
   "cell_type": "code",
   "execution_count": null,
   "id": "a0b6d65a",
   "metadata": {},
   "outputs": [],
   "source": [
    "def cnn_o(shape=(125, 125, 1)):\n",
    "    model = Sequential([\n",
    "        \n",
    "        Conv2D(5, (5,5), padding = 'same', input_shape = shape),\n",
    "        BatchNormalization(),\n",
    "        Activation('relu'),\n",
    "        \n",
    "        MaxPool2D((6,6), strides = 2),\n",
    "        #Dropout(0.2),\n",
    "        \n",
    "        \n",
    "        Conv2D(6, (5,5), padding = 'same'),\n",
    "        BatchNormalization(),\n",
    "        Activation('relu'),\n",
    "        \n",
    "        MaxPool2D((6,6), strides = 2),\n",
    "        #Dropout(0.1),\n",
    "        \n",
    "        \n",
    "        Conv2D(10, (5,5), padding = 'same'),\n",
    "        BatchNormalization(),\n",
    "        Activation('relu'),\n",
    "        \n",
    "        MaxPool2D((6,6), strides = 2),\n",
    "        #Dropout(0.1),\n",
    "        \n",
    "        Flatten(),\n",
    "        \n",
    "        Dense(10, activation = 'relu'),\n",
    "        #Dropout(0.1),\n",
    "        Dense(1, activation = 'sigmoid')        \n",
    "        \n",
    "    ])\n",
    "    return model"
   ]
  },
  {
   "cell_type": "code",
   "execution_count": null,
   "id": "b3754c3b",
   "metadata": {},
   "outputs": [],
   "source": [
    "model_o = cnn_o()\n",
    "model_o.summary()"
   ]
  },
  {
   "cell_type": "code",
   "execution_count": null,
   "id": "16a1819f",
   "metadata": {},
   "outputs": [],
   "source": [
    "from tensorflow.keras.optimizers import SGD\n",
    "learning_rate = 0.001\n",
    "model_o.compile(optimizer = SGD(learning_rate, momentum = 0.9), loss = 'binary_crossentropy', metrics = ['accuracy'])\n",
    "#model_f.compile(optimizer = SGD(learning_rate, momentum = 0.9), loss = 'binary_crossentropy', metrics = ['accuracy'])"
   ]
  },
  {
   "cell_type": "code",
   "execution_count": null,
   "id": "eb2c9bda",
   "metadata": {},
   "outputs": [],
   "source": [
    "from keras.preprocessing.image import ImageDataGenerator\n",
    "\n",
    "aug = ImageDataGenerator(\n",
    "                rotation_range = 90,\n",
    "                horizontal_flip = True,\n",
    "                vertical_flip = True,\n",
    "                validation_split = 0.21)\n",
    "\n",
    "Xaug_train_o = aug.flow(X_slice_o, Y_slice_o, batch_size = 30, subset = 'training')\n",
    "Xaug_val_o = aug.flow(X_slice_o, Y_slice_o, batch_size = 30, subset = 'validation')\n",
    "\n",
    "Xaug_train_f = aug.flow(X_slice_f, Y_slice_f, subset = 'training')\n",
    "Xaug_val_f = aug.flow(X_slice_f, Y_slice_f, subset = 'validation')"
   ]
  },
  {
   "cell_type": "code",
   "execution_count": null,
   "id": "038f2fbe",
   "metadata": {},
   "outputs": [],
   "source": [
    "reduce_on_plateau = ReduceLROnPlateau(\n",
    "    monitor=\"val_loss\",\n",
    "    factor=0.1,\n",
    "    patience=10,\n",
    "    verbose=0,\n",
    "    mode=\"auto\",\n",
    "    min_delta=0.0001,\n",
    "    cooldown=0,\n",
    "    min_lr=0)"
   ]
  },
  {
   "cell_type": "code",
   "execution_count": null,
   "id": "3a49e28b",
   "metadata": {},
   "outputs": [],
   "source": [
    "X_train_o, X_val_o, Y_train_o, Y_val_o = train_test_split(mammo_o_4d, label, test_size = 0.2)\n",
    "batch_size = 49\n",
    "traino = model_o.fit(X_train_o, Y_train_o,\n",
    "                            batch_size = batch_size,\n",
    "                            epochs = 200,\n",
    "                            #steps_per_epoch = np.shape(X_train_o)[0]/batch_size,\n",
    "                            verbose=1,\n",
    "                            validation_data=(X_val_o, Y_val_o), callbacks = [reduce_on_plateau])#,\n",
    "                            #validation_steps=np.shape(X_val_o)[0]/batch_size,\n",
    "                            #callbacks=[checkpoint,reduce_on_plateau])\n",
    "    "
   ]
  },
  {
   "cell_type": "code",
   "execution_count": null,
   "id": "c646763d",
   "metadata": {},
   "outputs": [],
   "source": [
    "acc = traino.history['accuracy']\n",
    "val_acc = traino.history['val_accuracy']\n",
    "loss = traino.history['loss']\n",
    "val_loss = traino.history['val_loss']\n",
    "    \n",
    "epochs_range = range(1, len(acc)+1)\n",
    "    #Train and validation accuracy \n",
    "plt.figure(figsize=(15, 15))\n",
    "plt.subplot(2, 2, 1)\n",
    "plt.plot(epochs_range, acc, label='Training Accuracy')\n",
    "plt.plot(epochs_range, val_acc, label='Validation Accuracy')\n",
    "plt.legend(loc='lower right')\n",
    "plt.title('Training and Validation Accuracy')\n",
    "    #Train and validation loss \n",
    "plt.subplot(2, 2, 2)\n",
    "plt.plot(epochs_range, loss, label='Training Loss')\n",
    "plt.plot(epochs_range, val_loss, label='Validation Loss')\n",
    "plt.legend(loc='upper right')\n",
    "plt.title('Training and Validation Loss')\n",
    "plt.show()"
   ]
  },
  {
   "cell_type": "code",
   "execution_count": null,
   "id": "58aecaf0",
   "metadata": {},
   "outputs": [],
   "source": [
    "_, val_acc = model_o.evaluate(X_val_o, Y_val_o, verbose=0)\n",
    "print('Validation accuracy: %.3f' % (val_acc))\n",
    "    \n",
    "    \n",
    "preds = model_o.predict(X_val_o, verbose=1)\n",
    "\n",
    "    #Compute Receiver operating characteristic (ROC)\n",
    "fpr, tpr, _ = roc_curve(Y_val_o, preds)\n",
    "\n",
    "roc_auc = auc(fpr, tpr)\n",
    "   #Plot of a ROC curve\n",
    "plt.figure()\n",
    "lw = 2\n",
    "plt.plot(fpr, tpr, color='darkorange', lw=lw, label='ROC curve (area = %0.2f)' % roc_auc)\n",
    "plt.plot([0, 1], [0, 1], color='navy', lw=lw, linestyle='--')\n",
    "plt.xlim([0.0, 1.0])\n",
    "plt.ylim([0.0, 1.05])\n",
    "plt.xlabel('False Positive Rate')\n",
    "plt.ylabel('True Positive Rate')\n",
    "plt.title('Receiver operating characteristic example')\n",
    "plt.legend(loc=\"lower right\")\n",
    "plt.show()"
   ]
  },
  {
   "cell_type": "code",
   "execution_count": null,
   "id": "300b84c1",
   "metadata": {},
   "outputs": [],
   "source": [
    "#CROSS-VALIDATION with ORIGINAL DATA (X_slice_o)\n",
    "\n",
    "A = []\n",
    "V_A = []\n",
    "L = []\n",
    "V_L = []\n",
    "ROC = []\n",
    "\n",
    "for i in range(3):\n",
    "    X_train_o, X_val_o, Y_train_o, Y_val_o = train_test_split(mammo_o_4d, label, test_size = 0.168, random_state = 40)\n",
    "    traino = model_o.fit(X_train_o, Y_train_o,\n",
    "                            batch_size = 49,\n",
    "                            epochs = 200,\n",
    "                            verbose=1,\n",
    "                            validation_data=(X_val_o, Y_val_o),\n",
    "                            callbacks=[checkpoint,reduce_on_plateau])\n",
    "    \n",
    "    acc = traino.history['accuracy']\n",
    "    val_acc = traino.history['val_accuracy']\n",
    "    loss = traino.history['loss']\n",
    "    val_loss = traino.history['val_loss']\n",
    "    \n",
    "    A.append(acc)\n",
    "    V_A.append(val_acc)\n",
    "    L.append(loss)\n",
    "    V_L.append(val_loss)\n",
    "    \n",
    "    epochs_range = range(1, len(acc)+1)\n",
    "    #Train and validation accuracy \n",
    "    plt.figure(figsize=(15, 15))\n",
    "    plt.subplot(2, 2, 1)\n",
    "    plt.plot(epochs_range, acc, label='Training Accuracy')\n",
    "    plt.plot(epochs_range, val_acc, label='Validation Accuracy')\n",
    "    plt.legend(loc='lower right')\n",
    "    plt.title('Training and Validation Accuracy')\n",
    "    #Train and validation loss \n",
    "    plt.subplot(2, 2, 2)\n",
    "    plt.plot(epochs_range, loss, label='Training Loss')\n",
    "    plt.plot(epochs_range, val_loss, label='Validation Loss')\n",
    "    plt.legend(loc='upper right')\n",
    "    plt.title('Training and Validation Loss')\n",
    "    plt.show()\n",
    "    \n",
    "    _, val_acc = model_o.evaluate(X_val_o, Y_val_o, verbose=0)\n",
    "    print('Validation accuracy: %.3f' % (val_acc))\n",
    "    \n",
    "    \n",
    "    preds = model_o.predict(X_val_o, verbose=1)\n",
    "\n",
    "    #Compute Receiver operating characteristic (ROC)\n",
    "    fpr, tpr, _ = roc_curve(Y_val_o, preds)\n",
    "\n",
    "    roc_auc = auc(fpr, tpr)\n",
    "    ROC.append(roc_auc)\n",
    "    #Plot of a ROC curve\n",
    "    plt.figure()\n",
    "    lw = 2\n",
    "    plt.plot(fpr, tpr, color='darkorange', lw=lw, label='ROC curve (area = %0.2f)' % roc_auc)\n",
    "    plt.plot([0, 1], [0, 1], color='navy', lw=lw, linestyle='--')\n",
    "    plt.xlim([0.0, 1.0])\n",
    "    plt.ylim([0.0, 1.05])\n",
    "    plt.xlabel('False Positive Rate')\n",
    "    plt.ylabel('True Positive Rate')\n",
    "    plt.title('Receiver operating characteristic example')\n",
    "    plt.legend(loc=\"lower right\")\n",
    "    plt.show()"
   ]
  },
  {
   "cell_type": "code",
   "execution_count": null,
   "id": "d2ff42b9",
   "metadata": {},
   "outputs": [],
   "source": [
    "media = np.mean(ROC)\n",
    "std = np.std(ROC)\n",
    "print(media)\n",
    "print(std)"
   ]
  }
 ],
 "metadata": {
  "kernelspec": {
   "display_name": "Python 3 (ipykernel)",
   "language": "python",
   "name": "python3"
  },
  "language_info": {
   "codemirror_mode": {
    "name": "ipython",
    "version": 3
   },
   "file_extension": ".py",
   "mimetype": "text/x-python",
   "name": "python",
   "nbconvert_exporter": "python",
   "pygments_lexer": "ipython3",
   "version": "3.10.9"
  }
 },
 "nbformat": 4,
 "nbformat_minor": 5
}
