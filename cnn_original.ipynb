{
 "cells": [
  {
   "cell_type": "code",
   "execution_count": null,
   "id": "9de0524d",
   "metadata": {},
   "outputs": [],
   "source": [
    "import os\n",
    "import numpy as np\n",
    "import threading as thr\n",
    "import matplotlib.pyplot as plt\n",
    "from sklearn.model_selection import train_test_split\n",
    "from sklearn.metrics import roc_curve, auc\n",
    "from keras.models import Sequential\n",
    "from keras.layers import Conv2D, BatchNormalization, MaxPool2D, Dense, Flatten, InputLayer, Activation, Dropout\n",
    "from keras.callbacks import ModelCheckpoint, ReduceLROnPlateau, EarlyStopping\n",
    "from tensorflow.keras.optimizers import SGD"
   ]
  },
  {
   "cell_type": "code",
   "execution_count": null,
   "id": "e336b2e5",
   "metadata": {},
   "outputs": [],
   "source": [
    "import matlab.engine\n",
    "eng = matlab.engine.start_matlab()"
   ]
  },
  {
   "cell_type": "code",
   "execution_count": null,
   "id": "93d62b8d",
   "metadata": {},
   "outputs": [],
   "source": [
    "mammo_o, mammo_f, label = [], [], []\n",
    "data_folder = \"C:/Users/anapascual/exam_project/train_val_dataset/\"\n",
    "os.chdir(data_folder)\n",
    "l = os.listdir()"
   ]
  },
  {
   "cell_type": "code",
   "execution_count": null,
   "id": "dc1a5d4a",
   "metadata": {},
   "outputs": [],
   "source": [
    "def create_dataset(lista, o_img, f_img, labels):\n",
    "    \"\"\"Function calling the Matlab file in order to filter the images.\n",
    "    \n",
    "    Arguments\n",
    "    ---------\n",
    "    \n",
    "    lista : list\n",
    "        Chunk of file directories.\n",
    "    \n",
    "    Return:\n",
    "        Dataset with all the images filtered.\n",
    "    \"\"\"\n",
    "    \n",
    "    for element in lista:\n",
    "        if \"_1_resized.pgm\" in element:\n",
    "            mo, mf = eng.dataset_filtered(eng.char(os.path.join(data_folder, element)), nargout = 2)\n",
    "            o_img.append(mo)\n",
    "            f_img.append(mf)\n",
    "            labels.append(1)\n",
    "        elif \"_2_resized.pgm\" in element:\n",
    "            mo, mf = eng.dataset_filtered(eng.char(os.path.join(data_folder, element)), nargout = 2)\n",
    "            o_img.append(mo)\n",
    "            f_img.append(mf)\n",
    "            labels.append(0)"
   ]
  },
  {
   "cell_type": "code",
   "execution_count": null,
   "id": "62d98ac8",
   "metadata": {},
   "outputs": [],
   "source": [
    "os.chdir(\"C:/Users/anapascual/exam_project/\")\n",
    "threads = []\n",
    "chunk = 6\n",
    "\n",
    "for i in range(49):\n",
    "    t = thr.Thread(target = create_dataset, args = (l[i*chunk : (i+1)*chunk], mammo_o, mammo_f, label))\n",
    "    threads.append(t)\n",
    "    t.start()\n",
    "    \n",
    "for j in threads:\n",
    "    j.join()"
   ]
  },
  {
   "cell_type": "code",
   "execution_count": null,
   "id": "dac76744",
   "metadata": {},
   "outputs": [],
   "source": [
    "eng.quit()"
   ]
  },
  {
   "cell_type": "code",
   "execution_count": null,
   "id": "b93a6793",
   "metadata": {},
   "outputs": [],
   "source": [
    "mammo_o = np.asarray(mammo_o, dtype = 'float32')/255.\n",
    "mammo_f = np.asarray(mammo_f, dtype = 'float32')/255.\n",
    "label = np.asarray(label)"
   ]
  },
  {
   "cell_type": "code",
   "execution_count": null,
   "id": "c299d846",
   "metadata": {},
   "outputs": [],
   "source": [
    "mammo_o_4d = np.reshape(mammo_o, (147, 125, 125, 1))\n",
    "mammo_f_4d = np.reshape(mammo_f, (147, 64, 64, 1))"
   ]
  },
  {
   "cell_type": "code",
   "execution_count": null,
   "id": "bc98a45f",
   "metadata": {},
   "outputs": [],
   "source": [
    "def cnn_o(shape=(125, 125, 1)):\n",
    "    model = Sequential([\n",
    "        \n",
    "        Conv2D(6, (5,5), padding = 'same', input_shape = shape),\n",
    "        BatchNormalization(),\n",
    "        Activation('relu'),\n",
    "        \n",
    "        MaxPool2D((6,6), strides = 2),\n",
    "        #Dropout(0.2),\n",
    "        \n",
    "        \n",
    "        Conv2D(6, (5,5), padding = 'same'),\n",
    "        BatchNormalization(),\n",
    "        Activation('relu'),\n",
    "        \n",
    "        MaxPool2D((6,6), strides = 2),\n",
    "        #Dropout(0.1),\n",
    "        \n",
    "        \n",
    "        Conv2D(10, (5,5), padding = 'same'),\n",
    "        BatchNormalization(),\n",
    "        Activation('relu'),\n",
    "        \n",
    "        MaxPool2D((6,6), strides = 2),\n",
    "        #Dropout(0.1),\n",
    "        \n",
    "        Flatten(),\n",
    "        \n",
    "        Dense(10, activation = 'relu'),\n",
    "        #Dropout(0.1),\n",
    "        Dense(1, activation = 'sigmoid')        \n",
    "        \n",
    "    ])\n",
    "    \n",
    "    return model"
   ]
  },
  {
   "cell_type": "code",
   "execution_count": null,
   "id": "28918e94",
   "metadata": {},
   "outputs": [],
   "source": [
    "model_o = cnn_o()\n",
    "model_o.summary()"
   ]
  },
  {
   "cell_type": "code",
   "execution_count": null,
   "id": "1e68c4c5",
   "metadata": {},
   "outputs": [],
   "source": [
    "learning_rate = 0.001\n",
    "model_o.compile(optimizer = SGD(learning_rate, momentum = 0.9), loss = 'binary_crossentropy', metrics = ['accuracy'])"
   ]
  },
  {
   "cell_type": "code",
   "execution_count": null,
   "id": "f6c76bb3",
   "metadata": {},
   "outputs": [],
   "source": [
    "reduce_on_plateau = ReduceLROnPlateau(\n",
    "    monitor=\"val_loss\",\n",
    "    factor=0.1,\n",
    "    patience=10,\n",
    "    verbose=0,\n",
    "    mode=\"auto\",\n",
    "    min_delta=0.0001,\n",
    "    cooldown=0,\n",
    "    min_lr=0)"
   ]
  },
  {
   "cell_type": "code",
   "execution_count": null,
   "id": "cf55dd09",
   "metadata": {},
   "outputs": [],
   "source": [
    "X_train_o, X_val_o, Y_train_o, Y_val_o = train_test_split(mammo_o_4d, label, test_size = 0.2, random_state = 44)\n",
    "batch_size = 21\n",
    "traino = model_o.fit(X_train_o, Y_train_o, \n",
    "                     batch_size = batch_size,\n",
    "                     epochs = 200, \n",
    "                     verbose=1,\n",
    "                     validation_data=(X_val_o, Y_val_o),\n",
    "                     callbacks = [reduce_on_plateau])    "
   ]
  },
  {
   "cell_type": "code",
   "execution_count": null,
   "id": "10f1c20b",
   "metadata": {},
   "outputs": [],
   "source": [
    "acc = traino.history['accuracy']\n",
    "val_acc = traino.history['val_accuracy']\n",
    "loss = traino.history['loss']\n",
    "val_loss = traino.history['val_loss']\n",
    "\n",
    "epochs_range = range(1, len(acc)+1)\n",
    "\n",
    "#Train and validation accuracy \n",
    "plt.figure(figsize=(15, 15))\n",
    "plt.subplot(2, 2, 1)\n",
    "plt.plot(epochs_range, acc, label='Training Accuracy')\n",
    "plt.plot(epochs_range, val_acc, label='Validation Accuracy')\n",
    "plt.legend(loc='lower right')\n",
    "plt.title('Training and Validation Accuracy')\n",
    "\n",
    "#Train and validation loss \n",
    "plt.subplot(2, 2, 2)\n",
    "plt.plot(epochs_range, loss, label='Training Loss')\n",
    "plt.plot(epochs_range, val_loss, label='Validation Loss')\n",
    "plt.legend(loc='upper right')\n",
    "plt.title('Training and Validation Loss')\n",
    "plt.show()"
   ]
  },
  {
   "cell_type": "code",
   "execution_count": null,
   "id": "07cede8c",
   "metadata": {},
   "outputs": [],
   "source": [
    "_, val_acc = model_o.evaluate(X_val_o, Y_val_o, verbose=0)\n",
    "print('Validation accuracy: %.3f' % (val_acc))\n",
    "\n",
    "preds = model_o.predict(X_val_o, verbose=1)\n",
    "\n",
    "#Compute Receiver operating characteristic (ROC)\n",
    "fpr, tpr, _ = roc_curve(Y_val_o, preds)\n",
    "roc_auc = auc(fpr, tpr)\n",
    "\n",
    "#Plot of a ROC curve\n",
    "plt.figure()\n",
    "lw = 2\n",
    "plt.plot(fpr, tpr, color='darkorange', lw=lw, label='ROC curve (area = %0.2f)' % roc_auc)\n",
    "plt.plot([0, 1], [0, 1], color='navy', lw=lw, linestyle='--')\n",
    "plt.xlim([0.0, 1.0])\n",
    "plt.ylim([0.0, 1.05])\n",
    "plt.xlabel('False Positive Rate')\n",
    "plt.ylabel('True Positive Rate')\n",
    "plt.title('Receiver operating characteristic example')\n",
    "plt.legend(loc=\"lower right\")\n",
    "plt.show()"
   ]
  }
 ],
 "metadata": {
  "kernelspec": {
   "display_name": "Python 3 (ipykernel)",
   "language": "python",
   "name": "python3"
  },
  "language_info": {
   "codemirror_mode": {
    "name": "ipython",
    "version": 3
   },
   "file_extension": ".py",
   "mimetype": "text/x-python",
   "name": "python",
   "nbconvert_exporter": "python",
   "pygments_lexer": "ipython3",
   "version": "3.10.9"
  }
 },
 "nbformat": 4,
 "nbformat_minor": 5
}
